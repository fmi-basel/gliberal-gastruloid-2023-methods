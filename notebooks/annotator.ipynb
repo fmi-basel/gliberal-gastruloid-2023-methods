{
 "cells": [
  {
   "cell_type": "code",
   "execution_count": null,
   "metadata": {},
   "outputs": [],
   "source": [
    "import os\n",
    "import numpy as np\n",
    "from improc.io import parse_collection, DCAccessor\n",
    "DCAccessor.register()\n",
    "from holoviews import opts\n",
    "\n",
    "from inter_view.dashboards import AnnotationDashBoard\n",
    "\n",
    "from IPython.core.display import display, HTML\n",
    "display(HTML(\"<style>.container { width:100% !important; }</style>\"))"
   ]
  },
  {
   "cell_type": "markdown",
   "metadata": {},
   "source": [
    "# config"
   ]
  },
  {
   "cell_type": "code",
   "execution_count": null,
   "metadata": {},
   "outputs": [],
   "source": [
    "# set the base directory were training images are located (with raw|annot sbu folders)\n",
    "\n",
    "basedir = 'annot/path'\n",
    "\n",
    "data_pattern = '{subdir}/{fname}.{ext}'\n",
    "index = ['subdir', 'fname']\n",
    "\n",
    "channel_config = {'raw':{'cmap':'gray', 'intensity_bounds':(200,18500)},\n",
    "                  'annot':{'cmap':'glasbey_hv_16bit', 'raster_aggregator':'first', 'intensity_bounds':(-2**15,2**15-1), 'slider_limits':(-2**15,2**15-1), 'bitdepth':'int16', 'opacity':0.5},}\n",
    "\n",
    "def set_inactive_tool(plot, element):\n",
    "    plot.state.toolbar.active_inspect = None\n",
    "\n",
    "opts.defaults(opts.Image('channel.raw', frame_width=1000),\n",
    "              opts.Image('channel.annot', frame_width=1000, clipping_colors={'min': (0, 0, 0, 0)}, clim=(0,2**16-1), hooks=[set_inactive_tool], tools=['hover'], show_title=False),\n",
    "             )\n",
    "\n",
    "# opts.defaults(opts.Image('channel.segm', clipping_colors={'min': (0, 0, 0, 0)}, clim=(1,256*256-1), tools=['hover']))"
   ]
  },
  {
   "cell_type": "markdown",
   "metadata": {},
   "source": [
    "# parse files"
   ]
  },
  {
   "cell_type": "code",
   "execution_count": null,
   "metadata": {},
   "outputs": [],
   "source": [
    "df = parse_collection(os.path.join(basedir, data_pattern), index)\n",
    "df = df.dc[['raw', 'annot']]\n",
    "\n",
    "df"
   ]
  },
  {
   "cell_type": "markdown",
   "metadata": {},
   "source": [
    "# interactive dashboard"
   ]
  },
  {
   "cell_type": "code",
   "execution_count": null,
   "metadata": {
    "scrolled": false
   },
   "outputs": [],
   "source": [
    "from skimage.io import imread\n",
    "\n",
    "def read_img(path):\n",
    "    img = imread(path)\n",
    "    \n",
    "    # special handling of separator input\n",
    "    # --> show the mean of 4 channels\n",
    "    if img.shape[-1] <= 4:\n",
    "        img = img.astype(np.float32)\n",
    "        img -= np.quantile(img, 0.001, axis=(0, 1), keepdims=True)\n",
    "        img /= np.quantile(img, 0.999, axis=(0, 1), keepdims=True)\n",
    "        img = img.mean(axis=-1)\n",
    "        img = (img*20000).astype(np.uint16)\n",
    "    \n",
    "    return img\n",
    "\n",
    "db = AnnotationDashBoard(df=df,\n",
    "                         multi_select_levels=['subdir'],\n",
    "                         loading_fun=read_img,\n",
    "                         channel_config=channel_config,\n",
    "                         composite_channels=['raw'],\n",
    "                         overlay_channels=['annot'],\n",
    "                         annot_channel='annot')\n",
    "\n",
    "db.panel().servable()"
   ]
  }
 ],
 "metadata": {
  "kernelspec": {
   "display_name": "Python [conda env:scratch]",
   "language": "python",
   "name": "conda-env-scratch-py"
  },
  "language_info": {
   "codemirror_mode": {
    "name": "ipython",
    "version": 3
   },
   "file_extension": ".py",
   "mimetype": "text/x-python",
   "name": "python",
   "nbconvert_exporter": "python",
   "pygments_lexer": "ipython3",
   "version": "3.7.9"
  }
 },
 "nbformat": 4,
 "nbformat_minor": 2
}
